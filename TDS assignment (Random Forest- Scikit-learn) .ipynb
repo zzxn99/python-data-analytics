{
 "cells": [
  {
   "cell_type": "code",
   "execution_count": 1,
   "metadata": {},
   "outputs": [],
   "source": [
    "import numpy as np\n",
    "import pandas as pd\n",
    "import matplotlib.pyplot as plt\n",
    "import seaborn as sns\n",
    "%matplotlib inline"
   ]
  },
  {
   "cell_type": "code",
   "execution_count": 2,
   "metadata": {},
   "outputs": [],
   "source": [
    "sns.set_palette('pastel')\n",
    "sns.set_style('darkgrid')"
   ]
  },
  {
   "cell_type": "code",
   "execution_count": 3,
   "metadata": {},
   "outputs": [
    {
     "data": {
      "text/html": [
       "<div>\n",
       "<style scoped>\n",
       "    .dataframe tbody tr th:only-of-type {\n",
       "        vertical-align: middle;\n",
       "    }\n",
       "\n",
       "    .dataframe tbody tr th {\n",
       "        vertical-align: top;\n",
       "    }\n",
       "\n",
       "    .dataframe thead th {\n",
       "        text-align: right;\n",
       "    }\n",
       "</style>\n",
       "<table border=\"1\" class=\"dataframe\">\n",
       "  <thead>\n",
       "    <tr style=\"text-align: right;\">\n",
       "      <th></th>\n",
       "      <th>pH</th>\n",
       "      <th>TDS</th>\n",
       "      <th>Chlorine</th>\n",
       "      <th>Chemical_Oxygen</th>\n",
       "      <th>Conductivity</th>\n",
       "      <th>Organic_Carbon</th>\n",
       "      <th>Turbidity</th>\n",
       "      <th>Potability</th>\n",
       "    </tr>\n",
       "  </thead>\n",
       "  <tbody>\n",
       "    <tr>\n",
       "      <th>0</th>\n",
       "      <td>NaN</td>\n",
       "      <td>20791.31898</td>\n",
       "      <td>7.300212</td>\n",
       "      <td>368.516441</td>\n",
       "      <td>564.308654</td>\n",
       "      <td>10.379783</td>\n",
       "      <td>2.963135</td>\n",
       "      <td>0</td>\n",
       "    </tr>\n",
       "    <tr>\n",
       "      <th>1</th>\n",
       "      <td>3.716080</td>\n",
       "      <td>18630.05786</td>\n",
       "      <td>6.635246</td>\n",
       "      <td>NaN</td>\n",
       "      <td>592.885359</td>\n",
       "      <td>15.180013</td>\n",
       "      <td>4.500656</td>\n",
       "      <td>0</td>\n",
       "    </tr>\n",
       "    <tr>\n",
       "      <th>2</th>\n",
       "      <td>8.099124</td>\n",
       "      <td>19909.54173</td>\n",
       "      <td>9.275884</td>\n",
       "      <td>NaN</td>\n",
       "      <td>418.606213</td>\n",
       "      <td>16.868637</td>\n",
       "      <td>3.055934</td>\n",
       "      <td>0</td>\n",
       "    </tr>\n",
       "    <tr>\n",
       "      <th>3</th>\n",
       "      <td>8.316766</td>\n",
       "      <td>22018.41744</td>\n",
       "      <td>8.059332</td>\n",
       "      <td>356.886136</td>\n",
       "      <td>363.266516</td>\n",
       "      <td>18.436525</td>\n",
       "      <td>4.628771</td>\n",
       "      <td>0</td>\n",
       "    </tr>\n",
       "    <tr>\n",
       "      <th>4</th>\n",
       "      <td>9.092223</td>\n",
       "      <td>17978.98634</td>\n",
       "      <td>6.546600</td>\n",
       "      <td>310.135738</td>\n",
       "      <td>398.410813</td>\n",
       "      <td>11.558279</td>\n",
       "      <td>4.075075</td>\n",
       "      <td>0</td>\n",
       "    </tr>\n",
       "  </tbody>\n",
       "</table>\n",
       "</div>"
      ],
      "text/plain": [
       "         pH          TDS  Chlorine  Chemical_Oxygen  Conductivity  \\\n",
       "0       NaN  20791.31898  7.300212       368.516441    564.308654   \n",
       "1  3.716080  18630.05786  6.635246              NaN    592.885359   \n",
       "2  8.099124  19909.54173  9.275884              NaN    418.606213   \n",
       "3  8.316766  22018.41744  8.059332       356.886136    363.266516   \n",
       "4  9.092223  17978.98634  6.546600       310.135738    398.410813   \n",
       "\n",
       "   Organic_Carbon  Turbidity  Potability  \n",
       "0       10.379783   2.963135           0  \n",
       "1       15.180013   4.500656           0  \n",
       "2       16.868637   3.055934           0  \n",
       "3       18.436525   4.628771           0  \n",
       "4       11.558279   4.075075           0  "
      ]
     },
     "execution_count": 3,
     "metadata": {},
     "output_type": "execute_result"
    }
   ],
   "source": [
    "water = pd.read_csv('water_potability.csv')\n",
    "water.head()"
   ]
  },
  {
   "cell_type": "code",
   "execution_count": 4,
   "metadata": {},
   "outputs": [
    {
     "data": {
      "text/plain": [
       "True"
      ]
     },
     "execution_count": 4,
     "metadata": {},
     "output_type": "execute_result"
    }
   ],
   "source": [
    "water.isnull().values.any()"
   ]
  },
  {
   "cell_type": "code",
   "execution_count": 5,
   "metadata": {},
   "outputs": [
    {
     "data": {
      "text/plain": [
       "pH                 491\n",
       "TDS                  0\n",
       "Chlorine             0\n",
       "Chemical_Oxygen    781\n",
       "Conductivity         0\n",
       "Organic_Carbon       0\n",
       "Turbidity            0\n",
       "Potability           0\n",
       "dtype: int64"
      ]
     },
     "execution_count": 5,
     "metadata": {},
     "output_type": "execute_result"
    }
   ],
   "source": [
    "water.isnull().sum()"
   ]
  },
  {
   "cell_type": "code",
   "execution_count": 6,
   "metadata": {},
   "outputs": [],
   "source": [
    "water.dropna(inplace =True)"
   ]
  },
  {
   "cell_type": "code",
   "execution_count": 7,
   "metadata": {
    "scrolled": false
   },
   "outputs": [
    {
     "data": {
      "text/html": [
       "<div>\n",
       "<style scoped>\n",
       "    .dataframe tbody tr th:only-of-type {\n",
       "        vertical-align: middle;\n",
       "    }\n",
       "\n",
       "    .dataframe tbody tr th {\n",
       "        vertical-align: top;\n",
       "    }\n",
       "\n",
       "    .dataframe thead th {\n",
       "        text-align: right;\n",
       "    }\n",
       "</style>\n",
       "<table border=\"1\" class=\"dataframe\">\n",
       "  <thead>\n",
       "    <tr style=\"text-align: right;\">\n",
       "      <th></th>\n",
       "      <th>pH</th>\n",
       "      <th>TDS</th>\n",
       "      <th>Chlorine</th>\n",
       "      <th>Chemical_Oxygen</th>\n",
       "      <th>Conductivity</th>\n",
       "      <th>Organic_Carbon</th>\n",
       "      <th>Turbidity</th>\n",
       "      <th>Potability</th>\n",
       "    </tr>\n",
       "  </thead>\n",
       "  <tbody>\n",
       "    <tr>\n",
       "      <th>3</th>\n",
       "      <td>8.316766</td>\n",
       "      <td>22018.41744</td>\n",
       "      <td>8.059332</td>\n",
       "      <td>356.886136</td>\n",
       "      <td>363.266516</td>\n",
       "      <td>18.436525</td>\n",
       "      <td>4.628771</td>\n",
       "      <td>0</td>\n",
       "    </tr>\n",
       "    <tr>\n",
       "      <th>4</th>\n",
       "      <td>9.092223</td>\n",
       "      <td>17978.98634</td>\n",
       "      <td>6.546600</td>\n",
       "      <td>310.135738</td>\n",
       "      <td>398.410813</td>\n",
       "      <td>11.558279</td>\n",
       "      <td>4.075075</td>\n",
       "      <td>0</td>\n",
       "    </tr>\n",
       "    <tr>\n",
       "      <th>5</th>\n",
       "      <td>5.584087</td>\n",
       "      <td>28748.68774</td>\n",
       "      <td>7.544869</td>\n",
       "      <td>326.678363</td>\n",
       "      <td>280.467916</td>\n",
       "      <td>8.399735</td>\n",
       "      <td>2.559708</td>\n",
       "      <td>0</td>\n",
       "    </tr>\n",
       "    <tr>\n",
       "      <th>6</th>\n",
       "      <td>10.223862</td>\n",
       "      <td>28749.71654</td>\n",
       "      <td>7.513408</td>\n",
       "      <td>393.663395</td>\n",
       "      <td>283.651634</td>\n",
       "      <td>13.789695</td>\n",
       "      <td>2.672989</td>\n",
       "      <td>0</td>\n",
       "    </tr>\n",
       "    <tr>\n",
       "      <th>7</th>\n",
       "      <td>8.635849</td>\n",
       "      <td>13672.09176</td>\n",
       "      <td>4.563009</td>\n",
       "      <td>303.309771</td>\n",
       "      <td>474.607645</td>\n",
       "      <td>12.363817</td>\n",
       "      <td>4.401425</td>\n",
       "      <td>0</td>\n",
       "    </tr>\n",
       "  </tbody>\n",
       "</table>\n",
       "</div>"
      ],
      "text/plain": [
       "          pH          TDS  Chlorine  Chemical_Oxygen  Conductivity  \\\n",
       "3   8.316766  22018.41744  8.059332       356.886136    363.266516   \n",
       "4   9.092223  17978.98634  6.546600       310.135738    398.410813   \n",
       "5   5.584087  28748.68774  7.544869       326.678363    280.467916   \n",
       "6  10.223862  28749.71654  7.513408       393.663395    283.651634   \n",
       "7   8.635849  13672.09176  4.563009       303.309771    474.607645   \n",
       "\n",
       "   Organic_Carbon  Turbidity  Potability  \n",
       "3       18.436525   4.628771           0  \n",
       "4       11.558279   4.075075           0  \n",
       "5        8.399735   2.559708           0  \n",
       "6       13.789695   2.672989           0  \n",
       "7       12.363817   4.401425           0  "
      ]
     },
     "execution_count": 7,
     "metadata": {},
     "output_type": "execute_result"
    }
   ],
   "source": [
    "water.head()"
   ]
  },
  {
   "cell_type": "code",
   "execution_count": 8,
   "metadata": {},
   "outputs": [
    {
     "data": {
      "text/html": [
       "<div>\n",
       "<style scoped>\n",
       "    .dataframe tbody tr th:only-of-type {\n",
       "        vertical-align: middle;\n",
       "    }\n",
       "\n",
       "    .dataframe tbody tr th {\n",
       "        vertical-align: top;\n",
       "    }\n",
       "\n",
       "    .dataframe thead th {\n",
       "        text-align: right;\n",
       "    }\n",
       "</style>\n",
       "<table border=\"1\" class=\"dataframe\">\n",
       "  <thead>\n",
       "    <tr style=\"text-align: right;\">\n",
       "      <th></th>\n",
       "      <th>pH</th>\n",
       "      <th>TDS</th>\n",
       "      <th>Chlorine</th>\n",
       "      <th>Chemical_Oxygen</th>\n",
       "      <th>Conductivity</th>\n",
       "      <th>Organic_Carbon</th>\n",
       "      <th>Turbidity</th>\n",
       "      <th>Potability</th>\n",
       "    </tr>\n",
       "  </thead>\n",
       "  <tbody>\n",
       "    <tr>\n",
       "      <th>count</th>\n",
       "      <td>2116.000000</td>\n",
       "      <td>2116.000000</td>\n",
       "      <td>2116.000000</td>\n",
       "      <td>2116.000000</td>\n",
       "      <td>2116.000000</td>\n",
       "      <td>2116.000000</td>\n",
       "      <td>2116.000000</td>\n",
       "      <td>2116.000000</td>\n",
       "    </tr>\n",
       "    <tr>\n",
       "      <th>mean</th>\n",
       "      <td>7.083824</td>\n",
       "      <td>22015.192720</td>\n",
       "      <td>7.125917</td>\n",
       "      <td>333.312912</td>\n",
       "      <td>425.979215</td>\n",
       "      <td>14.349405</td>\n",
       "      <td>3.969878</td>\n",
       "      <td>0.400284</td>\n",
       "    </tr>\n",
       "    <tr>\n",
       "      <th>std</th>\n",
       "      <td>1.586245</td>\n",
       "      <td>8686.584143</td>\n",
       "      <td>1.589125</td>\n",
       "      <td>41.083397</td>\n",
       "      <td>80.724078</td>\n",
       "      <td>3.315629</td>\n",
       "      <td>0.785557</td>\n",
       "      <td>0.490072</td>\n",
       "    </tr>\n",
       "    <tr>\n",
       "      <th>min</th>\n",
       "      <td>0.227499</td>\n",
       "      <td>320.942611</td>\n",
       "      <td>1.390871</td>\n",
       "      <td>129.000000</td>\n",
       "      <td>201.619737</td>\n",
       "      <td>2.200000</td>\n",
       "      <td>1.450000</td>\n",
       "      <td>0.000000</td>\n",
       "    </tr>\n",
       "    <tr>\n",
       "      <th>25%</th>\n",
       "      <td>6.089079</td>\n",
       "      <td>15666.690300</td>\n",
       "      <td>6.121864</td>\n",
       "      <td>307.706750</td>\n",
       "      <td>365.842780</td>\n",
       "      <td>12.118659</td>\n",
       "      <td>3.436360</td>\n",
       "      <td>0.000000</td>\n",
       "    </tr>\n",
       "    <tr>\n",
       "      <th>50%</th>\n",
       "      <td>7.027241</td>\n",
       "      <td>21041.034770</td>\n",
       "      <td>7.138343</td>\n",
       "      <td>332.477743</td>\n",
       "      <td>423.156807</td>\n",
       "      <td>14.298910</td>\n",
       "      <td>3.966109</td>\n",
       "      <td>0.000000</td>\n",
       "    </tr>\n",
       "    <tr>\n",
       "      <th>75%</th>\n",
       "      <td>8.064291</td>\n",
       "      <td>27353.621742</td>\n",
       "      <td>8.105680</td>\n",
       "      <td>359.267357</td>\n",
       "      <td>481.545011</td>\n",
       "      <td>16.665328</td>\n",
       "      <td>4.521985</td>\n",
       "      <td>1.000000</td>\n",
       "    </tr>\n",
       "    <tr>\n",
       "      <th>max</th>\n",
       "      <td>14.000000</td>\n",
       "      <td>56488.672410</td>\n",
       "      <td>13.127000</td>\n",
       "      <td>481.030642</td>\n",
       "      <td>753.342620</td>\n",
       "      <td>27.006707</td>\n",
       "      <td>6.494749</td>\n",
       "      <td>1.000000</td>\n",
       "    </tr>\n",
       "  </tbody>\n",
       "</table>\n",
       "</div>"
      ],
      "text/plain": [
       "                pH           TDS     Chlorine  Chemical_Oxygen  Conductivity  \\\n",
       "count  2116.000000   2116.000000  2116.000000      2116.000000   2116.000000   \n",
       "mean      7.083824  22015.192720     7.125917       333.312912    425.979215   \n",
       "std       1.586245   8686.584143     1.589125        41.083397     80.724078   \n",
       "min       0.227499    320.942611     1.390871       129.000000    201.619737   \n",
       "25%       6.089079  15666.690300     6.121864       307.706750    365.842780   \n",
       "50%       7.027241  21041.034770     7.138343       332.477743    423.156807   \n",
       "75%       8.064291  27353.621742     8.105680       359.267357    481.545011   \n",
       "max      14.000000  56488.672410    13.127000       481.030642    753.342620   \n",
       "\n",
       "       Organic_Carbon    Turbidity   Potability  \n",
       "count     2116.000000  2116.000000  2116.000000  \n",
       "mean        14.349405     3.969878     0.400284  \n",
       "std          3.315629     0.785557     0.490072  \n",
       "min          2.200000     1.450000     0.000000  \n",
       "25%         12.118659     3.436360     0.000000  \n",
       "50%         14.298910     3.966109     0.000000  \n",
       "75%         16.665328     4.521985     1.000000  \n",
       "max         27.006707     6.494749     1.000000  "
      ]
     },
     "execution_count": 8,
     "metadata": {},
     "output_type": "execute_result"
    }
   ],
   "source": [
    "water.describe()"
   ]
  },
  {
   "cell_type": "code",
   "execution_count": 9,
   "metadata": {},
   "outputs": [
    {
     "name": "stderr",
     "output_type": "stream",
     "text": [
      "C:\\Users\\zzxn9\\anaconda3\\lib\\site-packages\\seaborn\\_decorators.py:36: FutureWarning: Pass the following variable as a keyword arg: x. From version 0.12, the only valid positional argument will be `data`, and passing other arguments without an explicit keyword will result in an error or misinterpretation.\n",
      "  warnings.warn(\n"
     ]
    },
    {
     "name": "stdout",
     "output_type": "stream",
     "text": [
      "0    1269\n",
      "1     847\n",
      "Name: Potability, dtype: int64\n"
     ]
    },
    {
     "data": {
      "image/png": "[encoded data removed]",
      "text/plain": [
       "<Figure size 864x432 with 1 Axes>"
      ]
     },
     "metadata": {},
     "output_type": "display_data"
    }
   ],
   "source": [
    "plt.figure(figsize=(12, 6))\n",
    "sns.countplot(water['Potability'], palette='pastel')\n",
    "print(water.Potability.value_counts())"
   ]
  },
  {
   "cell_type": "code",
   "execution_count": 10,
   "metadata": {},
   "outputs": [
    {
     "data": {
      "image/png": "[encoded data removed]",
      "text/plain": [
       "<Figure size 864x864 with 9 Axes>"
      ]
     },
     "metadata": {},
     "output_type": "display_data"
    }
   ],
   "source": [
    "numbers = pd.Series(water.columns)\n",
    "water[numbers].hist(figsize=(12,12))\n",
    "plt.show()"
   ]
  },
  {
   "cell_type": "code",
   "execution_count": 11,
   "metadata": {},
   "outputs": [
    {
     "data": {
      "text/plain": [
       "<AxesSubplot:xlabel='Potability', ylabel='pH'>"
      ]
     },
     "execution_count": 11,
     "metadata": {},
     "output_type": "execute_result"
    },
    {
     "data": {
      "image/png": "[encoded data removed]",
      "text/plain": [
       "<Figure size 648x504 with 1 Axes>"
      ]
     },
     "metadata": {},
     "output_type": "display_data"
    }
   ],
   "source": [
    "plt.figure(figsize=(9, 7))\n",
    "sns.boxplot(x='Potability', y='pH', data=water)"
   ]
  },
  {
   "cell_type": "code",
   "execution_count": 12,
   "metadata": {},
   "outputs": [
    {
     "data": {
      "text/plain": [
       "<AxesSubplot:xlabel='Potability', ylabel='TDS'>"
      ]
     },
     "execution_count": 12,
     "metadata": {},
     "output_type": "execute_result"
    },
    {
     "data": {
      "image/png": "[encoded data removed]",
      "text/plain": [
       "<Figure size 648x504 with 1 Axes>"
      ]
     },
     "metadata": {},
     "output_type": "display_data"
    }
   ],
   "source": [
    "plt.figure(figsize=(9, 7))\n",
    "sns.boxplot(x='Potability', y='TDS', data=water)"
   ]
  },
  {
   "cell_type": "code",
   "execution_count": 13,
   "metadata": {},
   "outputs": [
    {
     "data": {
      "text/plain": [
       "<AxesSubplot:xlabel='Potability', ylabel='Chlorine'>"
      ]
     },
     "execution_count": 13,
     "metadata": {},
     "output_type": "execute_result"
    },
    {
     "data": {
      "image/png": "[encoded data removed]",
      "text/plain": [
       "<Figure size 648x504 with 1 Axes>"
      ]
     },
     "metadata": {},
     "output_type": "display_data"
    }
   ],
   "source": [
    "plt.figure(figsize=(9, 7))\n",
    "sns.boxplot(x='Potability', y='Chlorine', data=water)"
   ]
  },
  {
   "cell_type": "code",
   "execution_count": 14,
   "metadata": {},
   "outputs": [
    {
     "data": {
      "text/plain": [
       "<AxesSubplot:xlabel='Potability', ylabel='Chemical_Oxygen'>"
      ]
     },
     "execution_count": 14,
     "metadata": {},
     "output_type": "execute_result"
    },
    {
     "data": {
      "image/png": "[encoded data removed]",
      "text/plain": [
       "<Figure size 648x504 with 1 Axes>"
      ]
     },
     "metadata": {},
     "output_type": "display_data"
    }
   ],
   "source": [
    "plt.figure(figsize=(9, 7))\n",
    "sns.boxplot(x='Potability', y='Chemical_Oxygen', data=water)"
   ]
  },
  {
   "cell_type": "code",
   "execution_count": 15,
   "metadata": {},
   "outputs": [
    {
     "data": {
      "text/plain": [
       "<AxesSubplot:xlabel='Potability', ylabel='Conductivity'>"
      ]
     },
     "execution_count": 15,
     "metadata": {},
     "output_type": "execute_result"
    },
    {
     "data": {
      "image/png": "[encoded data removed]",
      "text/plain": [
       "<Figure size 648x504 with 1 Axes>"
      ]
     },
     "metadata": {},
     "output_type": "display_data"
    }
   ],
   "source": [
    "plt.figure(figsize=(9, 7))\n",
    "sns.boxplot(x='Potability', y='Conductivity', data=water)"
   ]
  },
  {
   "cell_type": "code",
   "execution_count": 16,
   "metadata": {},
   "outputs": [
    {
     "data": {
      "text/plain": [
       "<AxesSubplot:xlabel='Potability', ylabel='Organic_Carbon'>"
      ]
     },
     "execution_count": 16,
     "metadata": {},
     "output_type": "execute_result"
    },
    {
     "data": {
      "image/png": "[encoded data removed]",
      "text/plain": [
       "<Figure size 648x504 with 1 Axes>"
      ]
     },
     "metadata": {},
     "output_type": "display_data"
    }
   ],
   "source": [
    "plt.figure(figsize=(9, 7))\n",
    "sns.boxplot(x='Potability', y='Organic_Carbon', data=water)"
   ]
  },
  {
   "cell_type": "code",
   "execution_count": 17,
   "metadata": {},
   "outputs": [
    {
     "data": {
      "text/plain": [
       "<AxesSubplot:xlabel='Potability', ylabel='Turbidity'>"
      ]
     },
     "execution_count": 17,
     "metadata": {},
     "output_type": "execute_result"
    },
    {
     "data": {
      "image/png": "[encoded data removed]",
      "text/plain": [
       "<Figure size 648x504 with 1 Axes>"
      ]
     },
     "metadata": {},
     "output_type": "display_data"
    }
   ],
   "source": [
    "plt.figure(figsize=(9, 7))\n",
    "sns.boxplot(x='Potability', y='Turbidity', data=water)"
   ]
  },
  {
   "cell_type": "code",
   "execution_count": 18,
   "metadata": {},
   "outputs": [],
   "source": [
    "from sklearn.ensemble import RandomForestClassifier\n",
    "from sklearn.neighbors import KNeighborsClassifier\n",
    "from sklearn.model_selection import train_test_split\n",
    "from sklearn.model_selection import RandomizedSearchCV, GridSearchCV"
   ]
  },
  {
   "cell_type": "code",
   "execution_count": 19,
   "metadata": {},
   "outputs": [],
   "source": [
    "X = water.drop(['Potability'], axis = 1)\n",
    "y = water['Potability']"
   ]
  },
  {
   "cell_type": "code",
   "execution_count": 20,
   "metadata": {},
   "outputs": [],
   "source": [
    "X_train, X_test, y_train, y_test = train_test_split(X, y, test_size=0.3, random_state=42)"
   ]
  },
  {
   "cell_type": "code",
   "execution_count": 21,
   "metadata": {},
   "outputs": [],
   "source": [
    "rfc = RandomForestClassifier()\n",
    "knn = KNeighborsClassifier()"
   ]
  },
  {
   "cell_type": "code",
   "execution_count": 22,
   "metadata": {},
   "outputs": [],
   "source": [
    "#Choosing the best parameters for Random Forest\n",
    "params_rfc = {'n_estimators':[100,200, 350, 500], 'min_samples_leaf':[2, 10, 30]}\n",
    "grid_rfc = GridSearchCV(rfc, param_grid=params_rfc, cv=5, refit=True)\n",
    "\n",
    "#Choosing the best parameters for K Nearest Neighbours\n",
    "para_knn = {'n_neighbors':np.arange(1, 50)}\n",
    "grid_knn = GridSearchCV(knn, param_grid=para_knn, cv=5, refit=True)"
   ]
  },
  {
   "cell_type": "code",
   "execution_count": 23,
   "metadata": {
    "scrolled": true
   },
   "outputs": [
    {
     "data": {
      "text/plain": [
       "GridSearchCV(cv=5, estimator=KNeighborsClassifier(),\n",
       "             param_grid={'n_neighbors': array([ 1,  2,  3,  4,  5,  6,  7,  8,  9, 10, 11, 12, 13, 14, 15, 16, 17,\n",
       "       18, 19, 20, 21, 22, 23, 24, 25, 26, 27, 28, 29, 30, 31, 32, 33, 34,\n",
       "       35, 36, 37, 38, 39, 40, 41, 42, 43, 44, 45, 46, 47, 48, 49])})"
      ]
     },
     "execution_count": 23,
     "metadata": {},
     "output_type": "execute_result"
    }
   ],
   "source": [
    "grid_rfc.fit(X_train, y_train)\n",
    "\n",
    "grid_knn.fit(X_train, y_train)"
   ]
  },
  {
   "cell_type": "code",
   "execution_count": 24,
   "metadata": {},
   "outputs": [
    {
     "name": "stdout",
     "output_type": "stream",
     "text": [
      "Best parameters for Random Forest: {'min_samples_leaf': 2, 'n_estimators': 350}\n",
      "Best parameters for KNN: {'n_neighbors': 45}\n"
     ]
    }
   ],
   "source": [
    "print(\"Best parameters for Random Forest:\", grid_rfc.best_params_)\n",
    "print(\"Best parameters for KNN:\", grid_knn.best_params_)"
   ]
  },
  {
   "cell_type": "code",
   "execution_count": 25,
   "metadata": {},
   "outputs": [],
   "source": [
    "rfc = RandomForestClassifier(n_estimators=350, min_samples_leaf=2)\n",
    "rfc.fit(X_train, y_train)\n",
    "predictions_rfc = rfc.predict(X_test)"
   ]
  },
  {
   "cell_type": "code",
   "execution_count": 26,
   "metadata": {},
   "outputs": [],
   "source": [
    "knn = KNeighborsClassifier(n_neighbors=45)\n",
    "knn.fit(X_train, y_train)\n",
    "predictions_knn = knn.predict(X_test)"
   ]
  },
  {
   "cell_type": "code",
   "execution_count": 27,
   "metadata": {},
   "outputs": [],
   "source": [
    "from sklearn.metrics import classification_report,confusion_matrix"
   ]
  },
  {
   "cell_type": "markdown",
   "metadata": {},
   "source": [
    "Predictions using Random Forest Classifier"
   ]
  },
  {
   "cell_type": "code",
   "execution_count": 28,
   "metadata": {},
   "outputs": [
    {
     "name": "stdout",
     "output_type": "stream",
     "text": [
      "              precision    recall  f1-score   support\n",
      "\n",
      "           0       0.66      0.87      0.75       384\n",
      "           1       0.61      0.30      0.40       251\n",
      "\n",
      "    accuracy                           0.65       635\n",
      "   macro avg       0.63      0.59      0.58       635\n",
      "weighted avg       0.64      0.65      0.61       635\n",
      "\n",
      "\n",
      "\n",
      "[[335  49]\n",
      " [175  76]]\n"
     ]
    }
   ],
   "source": [
    "print(classification_report(y_test,predictions_rfc))\n",
    "print('\\n')\n",
    "print(confusion_matrix(y_test,predictions_rfc))"
   ]
  },
  {
   "cell_type": "markdown",
   "metadata": {},
   "source": [
    "Predictions using K Nearest Neighbours"
   ]
  },
  {
   "cell_type": "code",
   "execution_count": 29,
   "metadata": {},
   "outputs": [
    {
     "name": "stdout",
     "output_type": "stream",
     "text": [
      "              precision    recall  f1-score   support\n",
      "\n",
      "           0       0.59      0.88      0.71       384\n",
      "           1       0.31      0.09      0.14       251\n",
      "\n",
      "    accuracy                           0.56       635\n",
      "   macro avg       0.45      0.48      0.42       635\n",
      "weighted avg       0.48      0.56      0.48       635\n",
      "\n",
      "\n",
      "\n",
      "[[336  48]\n",
      " [229  22]]\n"
     ]
    }
   ],
   "source": [
    "print(classification_report(y_test,predictions_knn))\n",
    "print('\\n')\n",
    "print(confusion_matrix(y_test,predictions_knn))"
   ]
  },
  {
   "cell_type": "markdown",
   "metadata": {},
   "source": [
    "Block Diagram of the Machine Learning Model"
   ]
  },
  {
   "attachments": {
    "image.png": {
     "image/png": "[encoded data removed]"
    }
   },
   "cell_type": "markdown",
   "metadata": {},
   "source": [
    "![image.png](attachment:image.png)"
   ]
  },
  {
   "cell_type": "code",
   "execution_count": 30,
   "metadata": {},
   "outputs": [
    {
     "data": {
      "text/plain": [
       "pH                 0.173244\n",
       "TDS                0.142222\n",
       "Chlorine           0.143992\n",
       "Chemical_Oxygen    0.176401\n",
       "Conductivity       0.121093\n",
       "Organic_Carbon     0.117978\n",
       "Turbidity          0.125069\n",
       "dtype: float64"
      ]
     },
     "execution_count": 30,
     "metadata": {},
     "output_type": "execute_result"
    }
   ],
   "source": [
    "imp =rfc.feature_importances_\n",
    "col = X.columns\n",
    "rfc_cof = pd.Series(imp, col)\n",
    "rfc_cof"
   ]
  },
  {
   "cell_type": "code",
   "execution_count": 31,
   "metadata": {},
   "outputs": [
    {
     "data": {
      "text/plain": [
       "<AxesSubplot:>"
      ]
     },
     "execution_count": 31,
     "metadata": {},
     "output_type": "execute_result"
    },
    {
     "data": {
      "image/png": "[encoded data removed]",
      "text/plain": [
       "<Figure size 648x504 with 1 Axes>"
      ]
     },
     "metadata": {},
     "output_type": "display_data"
    }
   ],
   "source": [
    "plt.figure(figsize=(9, 7))\n",
    "rfc_cof.sort_values().plot.barh()"
   ]
  },
  {
   "cell_type": "markdown",
   "metadata": {},
   "source": [
    "Testing Model"
   ]
  },
  {
   "cell_type": "code",
   "execution_count": 32,
   "metadata": {},
   "outputs": [
    {
     "data": {
      "text/html": [
       "<div>\n",
       "<style scoped>\n",
       "    .dataframe tbody tr th:only-of-type {\n",
       "        vertical-align: middle;\n",
       "    }\n",
       "\n",
       "    .dataframe tbody tr th {\n",
       "        vertical-align: top;\n",
       "    }\n",
       "\n",
       "    .dataframe thead th {\n",
       "        text-align: right;\n",
       "    }\n",
       "</style>\n",
       "<table border=\"1\" class=\"dataframe\">\n",
       "  <thead>\n",
       "    <tr style=\"text-align: right;\">\n",
       "      <th></th>\n",
       "      <th>pH</th>\n",
       "      <th>TDS</th>\n",
       "      <th>Chlorine</th>\n",
       "      <th>Chemical_Oxygen</th>\n",
       "      <th>Conductivity</th>\n",
       "      <th>Organic_Carbon</th>\n",
       "      <th>Turbidity</th>\n",
       "      <th>Potability</th>\n",
       "    </tr>\n",
       "  </thead>\n",
       "  <tbody>\n",
       "    <tr>\n",
       "      <th>0</th>\n",
       "      <td>6.857494</td>\n",
       "      <td>22603.64945</td>\n",
       "      <td>6.627059</td>\n",
       "      <td>368.105783</td>\n",
       "      <td>412.434677</td>\n",
       "      <td>16.926175</td>\n",
       "      <td>4.306581</td>\n",
       "      <td>NaN</td>\n",
       "    </tr>\n",
       "    <tr>\n",
       "      <th>1</th>\n",
       "      <td>9.092223</td>\n",
       "      <td>17978.98634</td>\n",
       "      <td>6.546600</td>\n",
       "      <td>310.135738</td>\n",
       "      <td>398.410813</td>\n",
       "      <td>11.558279</td>\n",
       "      <td>4.075075</td>\n",
       "      <td>NaN</td>\n",
       "    </tr>\n",
       "    <tr>\n",
       "      <th>2</th>\n",
       "      <td>5.345887</td>\n",
       "      <td>22274.36837</td>\n",
       "      <td>9.727103</td>\n",
       "      <td>319.030495</td>\n",
       "      <td>492.135489</td>\n",
       "      <td>11.894673</td>\n",
       "      <td>2.950361</td>\n",
       "      <td>NaN</td>\n",
       "    </tr>\n",
       "    <tr>\n",
       "      <th>3</th>\n",
       "      <td>5.386307</td>\n",
       "      <td>40149.31656</td>\n",
       "      <td>8.124232</td>\n",
       "      <td>318.791667</td>\n",
       "      <td>355.546420</td>\n",
       "      <td>17.348802</td>\n",
       "      <td>3.662563</td>\n",
       "      <td>NaN</td>\n",
       "    </tr>\n",
       "    <tr>\n",
       "      <th>4</th>\n",
       "      <td>9.919478</td>\n",
       "      <td>16544.27559</td>\n",
       "      <td>7.039311</td>\n",
       "      <td>363.036851</td>\n",
       "      <td>278.753204</td>\n",
       "      <td>17.052540</td>\n",
       "      <td>4.117488</td>\n",
       "      <td>NaN</td>\n",
       "    </tr>\n",
       "    <tr>\n",
       "      <th>5</th>\n",
       "      <td>8.989900</td>\n",
       "      <td>15921.41202</td>\n",
       "      <td>6.297312</td>\n",
       "      <td>312.931021</td>\n",
       "      <td>390.410231</td>\n",
       "      <td>9.899115</td>\n",
       "      <td>4.613843</td>\n",
       "      <td>NaN</td>\n",
       "    </tr>\n",
       "    <tr>\n",
       "      <th>6</th>\n",
       "      <td>6.702547</td>\n",
       "      <td>17246.92035</td>\n",
       "      <td>7.708117</td>\n",
       "      <td>304.510230</td>\n",
       "      <td>329.266002</td>\n",
       "      <td>16.217303</td>\n",
       "      <td>3.442983</td>\n",
       "      <td>NaN</td>\n",
       "    </tr>\n",
       "    <tr>\n",
       "      <th>7</th>\n",
       "      <td>11.491011</td>\n",
       "      <td>37188.82602</td>\n",
       "      <td>9.263166</td>\n",
       "      <td>258.930600</td>\n",
       "      <td>439.893618</td>\n",
       "      <td>16.172755</td>\n",
       "      <td>4.369264</td>\n",
       "      <td>NaN</td>\n",
       "    </tr>\n",
       "    <tr>\n",
       "      <th>8</th>\n",
       "      <td>6.069616</td>\n",
       "      <td>26138.78019</td>\n",
       "      <td>7.747547</td>\n",
       "      <td>345.700257</td>\n",
       "      <td>415.886955</td>\n",
       "      <td>12.067620</td>\n",
       "      <td>3.669712</td>\n",
       "      <td>NaN</td>\n",
       "    </tr>\n",
       "    <tr>\n",
       "      <th>9</th>\n",
       "      <td>4.668102</td>\n",
       "      <td>47580.99160</td>\n",
       "      <td>7.166639</td>\n",
       "      <td>359.948574</td>\n",
       "      <td>526.424171</td>\n",
       "      <td>13.894419</td>\n",
       "      <td>4.435821</td>\n",
       "      <td>NaN</td>\n",
       "    </tr>\n",
       "  </tbody>\n",
       "</table>\n",
       "</div>"
      ],
      "text/plain": [
       "          pH          TDS  Chlorine  Chemical_Oxygen  Conductivity  \\\n",
       "0   6.857494  22603.64945  6.627059       368.105783    412.434677   \n",
       "1   9.092223  17978.98634  6.546600       310.135738    398.410813   \n",
       "2   5.345887  22274.36837  9.727103       319.030495    492.135489   \n",
       "3   5.386307  40149.31656  8.124232       318.791667    355.546420   \n",
       "4   9.919478  16544.27559  7.039311       363.036851    278.753204   \n",
       "5   8.989900  15921.41202  6.297312       312.931021    390.410231   \n",
       "6   6.702547  17246.92035  7.708117       304.510230    329.266002   \n",
       "7  11.491011  37188.82602  9.263166       258.930600    439.893618   \n",
       "8   6.069616  26138.78019  7.747547       345.700257    415.886955   \n",
       "9   4.668102  47580.99160  7.166639       359.948574    526.424171   \n",
       "\n",
       "   Organic_Carbon  Turbidity  Potability  \n",
       "0       16.926175   4.306581         NaN  \n",
       "1       11.558279   4.075075         NaN  \n",
       "2       11.894673   2.950361         NaN  \n",
       "3       17.348802   3.662563         NaN  \n",
       "4       17.052540   4.117488         NaN  \n",
       "5        9.899115   4.613843         NaN  \n",
       "6       16.217303   3.442983         NaN  \n",
       "7       16.172755   4.369264         NaN  \n",
       "8       12.067620   3.669712         NaN  \n",
       "9       13.894419   4.435821         NaN  "
      ]
     },
     "execution_count": 32,
     "metadata": {},
     "output_type": "execute_result"
    }
   ],
   "source": [
    "new_data = pd.read_csv('a.csv')\n",
    "new_data"
   ]
  },
  {
   "cell_type": "code",
   "execution_count": 33,
   "metadata": {},
   "outputs": [],
   "source": [
    "new_input = new_data.drop(['Potability'], axis = 1)\n",
    "new_output = new_data['Potability']"
   ]
  },
  {
   "cell_type": "code",
   "execution_count": 34,
   "metadata": {},
   "outputs": [],
   "source": [
    "new_output = rfc.predict(new_input)"
   ]
  },
  {
   "cell_type": "code",
   "execution_count": 35,
   "metadata": {},
   "outputs": [
    {
     "name": "stdout",
     "output_type": "stream",
     "text": [
      "[1 0 0 0 0 1 1 1 1 1]\n"
     ]
    }
   ],
   "source": [
    "print(new_output)"
   ]
  },
  {
   "cell_type": "code",
   "execution_count": 36,
   "metadata": {},
   "outputs": [
    {
     "data": {
      "text/html": [
       "<div>\n",
       "<style scoped>\n",
       "    .dataframe tbody tr th:only-of-type {\n",
       "        vertical-align: middle;\n",
       "    }\n",
       "\n",
       "    .dataframe tbody tr th {\n",
       "        vertical-align: top;\n",
       "    }\n",
       "\n",
       "    .dataframe thead th {\n",
       "        text-align: right;\n",
       "    }\n",
       "</style>\n",
       "<table border=\"1\" class=\"dataframe\">\n",
       "  <thead>\n",
       "    <tr style=\"text-align: right;\">\n",
       "      <th></th>\n",
       "      <th>pH</th>\n",
       "      <th>TDS</th>\n",
       "      <th>Chlorine</th>\n",
       "      <th>Chemical_Oxygen</th>\n",
       "      <th>Conductivity</th>\n",
       "      <th>Organic_Carbon</th>\n",
       "      <th>Turbidity</th>\n",
       "      <th>Potability</th>\n",
       "    </tr>\n",
       "  </thead>\n",
       "  <tbody>\n",
       "    <tr>\n",
       "      <th>0</th>\n",
       "      <td>6.857494</td>\n",
       "      <td>22603.64945</td>\n",
       "      <td>6.627059</td>\n",
       "      <td>368.105783</td>\n",
       "      <td>412.434677</td>\n",
       "      <td>16.926175</td>\n",
       "      <td>4.306581</td>\n",
       "      <td>1</td>\n",
       "    </tr>\n",
       "    <tr>\n",
       "      <th>1</th>\n",
       "      <td>9.092223</td>\n",
       "      <td>17978.98634</td>\n",
       "      <td>6.546600</td>\n",
       "      <td>310.135738</td>\n",
       "      <td>398.410813</td>\n",
       "      <td>11.558279</td>\n",
       "      <td>4.075075</td>\n",
       "      <td>0</td>\n",
       "    </tr>\n",
       "    <tr>\n",
       "      <th>2</th>\n",
       "      <td>5.345887</td>\n",
       "      <td>22274.36837</td>\n",
       "      <td>9.727103</td>\n",
       "      <td>319.030495</td>\n",
       "      <td>492.135489</td>\n",
       "      <td>11.894673</td>\n",
       "      <td>2.950361</td>\n",
       "      <td>0</td>\n",
       "    </tr>\n",
       "    <tr>\n",
       "      <th>3</th>\n",
       "      <td>5.386307</td>\n",
       "      <td>40149.31656</td>\n",
       "      <td>8.124232</td>\n",
       "      <td>318.791667</td>\n",
       "      <td>355.546420</td>\n",
       "      <td>17.348802</td>\n",
       "      <td>3.662563</td>\n",
       "      <td>0</td>\n",
       "    </tr>\n",
       "    <tr>\n",
       "      <th>4</th>\n",
       "      <td>9.919478</td>\n",
       "      <td>16544.27559</td>\n",
       "      <td>7.039311</td>\n",
       "      <td>363.036851</td>\n",
       "      <td>278.753204</td>\n",
       "      <td>17.052540</td>\n",
       "      <td>4.117488</td>\n",
       "      <td>0</td>\n",
       "    </tr>\n",
       "    <tr>\n",
       "      <th>5</th>\n",
       "      <td>8.989900</td>\n",
       "      <td>15921.41202</td>\n",
       "      <td>6.297312</td>\n",
       "      <td>312.931021</td>\n",
       "      <td>390.410231</td>\n",
       "      <td>9.899115</td>\n",
       "      <td>4.613843</td>\n",
       "      <td>1</td>\n",
       "    </tr>\n",
       "    <tr>\n",
       "      <th>6</th>\n",
       "      <td>6.702547</td>\n",
       "      <td>17246.92035</td>\n",
       "      <td>7.708117</td>\n",
       "      <td>304.510230</td>\n",
       "      <td>329.266002</td>\n",
       "      <td>16.217303</td>\n",
       "      <td>3.442983</td>\n",
       "      <td>1</td>\n",
       "    </tr>\n",
       "    <tr>\n",
       "      <th>7</th>\n",
       "      <td>11.491011</td>\n",
       "      <td>37188.82602</td>\n",
       "      <td>9.263166</td>\n",
       "      <td>258.930600</td>\n",
       "      <td>439.893618</td>\n",
       "      <td>16.172755</td>\n",
       "      <td>4.369264</td>\n",
       "      <td>1</td>\n",
       "    </tr>\n",
       "    <tr>\n",
       "      <th>8</th>\n",
       "      <td>6.069616</td>\n",
       "      <td>26138.78019</td>\n",
       "      <td>7.747547</td>\n",
       "      <td>345.700257</td>\n",
       "      <td>415.886955</td>\n",
       "      <td>12.067620</td>\n",
       "      <td>3.669712</td>\n",
       "      <td>1</td>\n",
       "    </tr>\n",
       "    <tr>\n",
       "      <th>9</th>\n",
       "      <td>4.668102</td>\n",
       "      <td>47580.99160</td>\n",
       "      <td>7.166639</td>\n",
       "      <td>359.948574</td>\n",
       "      <td>526.424171</td>\n",
       "      <td>13.894419</td>\n",
       "      <td>4.435821</td>\n",
       "      <td>1</td>\n",
       "    </tr>\n",
       "  </tbody>\n",
       "</table>\n",
       "</div>"
      ],
      "text/plain": [
       "          pH          TDS  Chlorine  Chemical_Oxygen  Conductivity  \\\n",
       "0   6.857494  22603.64945  6.627059       368.105783    412.434677   \n",
       "1   9.092223  17978.98634  6.546600       310.135738    398.410813   \n",
       "2   5.345887  22274.36837  9.727103       319.030495    492.135489   \n",
       "3   5.386307  40149.31656  8.124232       318.791667    355.546420   \n",
       "4   9.919478  16544.27559  7.039311       363.036851    278.753204   \n",
       "5   8.989900  15921.41202  6.297312       312.931021    390.410231   \n",
       "6   6.702547  17246.92035  7.708117       304.510230    329.266002   \n",
       "7  11.491011  37188.82602  9.263166       258.930600    439.893618   \n",
       "8   6.069616  26138.78019  7.747547       345.700257    415.886955   \n",
       "9   4.668102  47580.99160  7.166639       359.948574    526.424171   \n",
       "\n",
       "   Organic_Carbon  Turbidity  Potability  \n",
       "0       16.926175   4.306581           1  \n",
       "1       11.558279   4.075075           0  \n",
       "2       11.894673   2.950361           0  \n",
       "3       17.348802   3.662563           0  \n",
       "4       17.052540   4.117488           0  \n",
       "5        9.899115   4.613843           1  \n",
       "6       16.217303   3.442983           1  \n",
       "7       16.172755   4.369264           1  \n",
       "8       12.067620   3.669712           1  \n",
       "9       13.894419   4.435821           1  "
      ]
     },
     "execution_count": 36,
     "metadata": {},
     "output_type": "execute_result"
    }
   ],
   "source": [
    "new_data['Potability'] = new_output\n",
    "new_data"
   ]
  },
  {
   "cell_type": "markdown",
   "metadata": {},
   "source": [
    "Input real data from sensors"
   ]
  },
  {
   "cell_type": "code",
   "execution_count": 37,
   "metadata": {},
   "outputs": [
    {
     "data": {
      "text/html": [
       "<div>\n",
       "<style scoped>\n",
       "    .dataframe tbody tr th:only-of-type {\n",
       "        vertical-align: middle;\n",
       "    }\n",
       "\n",
       "    .dataframe tbody tr th {\n",
       "        vertical-align: top;\n",
       "    }\n",
       "\n",
       "    .dataframe thead th {\n",
       "        text-align: right;\n",
       "    }\n",
       "</style>\n",
       "<table border=\"1\" class=\"dataframe\">\n",
       "  <thead>\n",
       "    <tr style=\"text-align: right;\">\n",
       "      <th></th>\n",
       "      <th>pH</th>\n",
       "      <th>TDS</th>\n",
       "      <th>Chlorine</th>\n",
       "      <th>Chemical_Oxygen</th>\n",
       "      <th>Conductivity</th>\n",
       "      <th>Organic_Carbon</th>\n",
       "      <th>Turbidity</th>\n",
       "      <th>Potability</th>\n",
       "    </tr>\n",
       "  </thead>\n",
       "  <tbody>\n",
       "    <tr>\n",
       "      <th>0</th>\n",
       "      <td>8.5</td>\n",
       "      <td>3724.0</td>\n",
       "      <td>7.73</td>\n",
       "      <td>368.99</td>\n",
       "      <td>5378.0</td>\n",
       "      <td>3.63</td>\n",
       "      <td>13.10</td>\n",
       "      <td>NaN</td>\n",
       "    </tr>\n",
       "    <tr>\n",
       "      <th>1</th>\n",
       "      <td>8.2</td>\n",
       "      <td>3665.0</td>\n",
       "      <td>6.61</td>\n",
       "      <td>368.99</td>\n",
       "      <td>5321.0</td>\n",
       "      <td>3.63</td>\n",
       "      <td>13.10</td>\n",
       "      <td>NaN</td>\n",
       "    </tr>\n",
       "    <tr>\n",
       "      <th>2</th>\n",
       "      <td>7.5</td>\n",
       "      <td>3724.0</td>\n",
       "      <td>6.61</td>\n",
       "      <td>368.99</td>\n",
       "      <td>516.0</td>\n",
       "      <td>3.63</td>\n",
       "      <td>13.10</td>\n",
       "      <td>NaN</td>\n",
       "    </tr>\n",
       "    <tr>\n",
       "      <th>3</th>\n",
       "      <td>5.5</td>\n",
       "      <td>638.0</td>\n",
       "      <td>9.24</td>\n",
       "      <td>368.99</td>\n",
       "      <td>348.0</td>\n",
       "      <td>3.63</td>\n",
       "      <td>13.10</td>\n",
       "      <td>NaN</td>\n",
       "    </tr>\n",
       "    <tr>\n",
       "      <th>4</th>\n",
       "      <td>6.8</td>\n",
       "      <td>635.0</td>\n",
       "      <td>9.24</td>\n",
       "      <td>368.99</td>\n",
       "      <td>372.0</td>\n",
       "      <td>3.63</td>\n",
       "      <td>11.52</td>\n",
       "      <td>NaN</td>\n",
       "    </tr>\n",
       "  </tbody>\n",
       "</table>\n",
       "</div>"
      ],
      "text/plain": [
       "    pH     TDS  Chlorine  Chemical_Oxygen  Conductivity  Organic_Carbon  \\\n",
       "0  8.5  3724.0      7.73           368.99        5378.0            3.63   \n",
       "1  8.2  3665.0      6.61           368.99        5321.0            3.63   \n",
       "2  7.5  3724.0      6.61           368.99         516.0            3.63   \n",
       "3  5.5   638.0      9.24           368.99         348.0            3.63   \n",
       "4  6.8   635.0      9.24           368.99         372.0            3.63   \n",
       "\n",
       "   Turbidity  Potability  \n",
       "0      13.10         NaN  \n",
       "1      13.10         NaN  \n",
       "2      13.10         NaN  \n",
       "3      13.10         NaN  \n",
       "4      11.52         NaN  "
      ]
     },
     "execution_count": 37,
     "metadata": {},
     "output_type": "execute_result"
    }
   ],
   "source": [
    "newdata1 = pd.read_csv('Input data.csv')\n",
    "newdata1.head()"
   ]
  },
  {
   "cell_type": "code",
   "execution_count": 38,
   "metadata": {},
   "outputs": [],
   "source": [
    "new_input = newdata1.drop(['Potability'], axis = 1)\n",
    "new_output = newdata1['Potability']"
   ]
  },
  {
   "cell_type": "code",
   "execution_count": 39,
   "metadata": {},
   "outputs": [],
   "source": [
    "new_output = rfc.predict(new_input)"
   ]
  },
  {
   "cell_type": "code",
   "execution_count": 40,
   "metadata": {},
   "outputs": [
    {
     "name": "stdout",
     "output_type": "stream",
     "text": [
      "[0 0 0 1 0 1 1 1 0 0 0 1 1 1 1 1 0 0 1 0 0 0 0 0 1 1 1 1 1 0 0 1 1 1 0 0 1\n",
      " 1 0 1 1 1 1 1 1 1 0 0 0 0 0 0 0 1 1 0 0 0 1 0 0 1 0 1 1 0 1 1 1 1 1 1 0 1\n",
      " 1 1 1 1 1 1 1 1 1 1 1 1 1 1 0 1 1 1 1 0 1 1 0 1 1]\n"
     ]
    }
   ],
   "source": [
    "print(new_output)"
   ]
  },
  {
   "cell_type": "code",
   "execution_count": 41,
   "metadata": {},
   "outputs": [
    {
     "data": {
      "text/html": [
       "<div>\n",
       "<style scoped>\n",
       "    .dataframe tbody tr th:only-of-type {\n",
       "        vertical-align: middle;\n",
       "    }\n",
       "\n",
       "    .dataframe tbody tr th {\n",
       "        vertical-align: top;\n",
       "    }\n",
       "\n",
       "    .dataframe thead th {\n",
       "        text-align: right;\n",
       "    }\n",
       "</style>\n",
       "<table border=\"1\" class=\"dataframe\">\n",
       "  <thead>\n",
       "    <tr style=\"text-align: right;\">\n",
       "      <th></th>\n",
       "      <th>pH</th>\n",
       "      <th>TDS</th>\n",
       "      <th>Chlorine</th>\n",
       "      <th>Chemical_Oxygen</th>\n",
       "      <th>Conductivity</th>\n",
       "      <th>Organic_Carbon</th>\n",
       "      <th>Turbidity</th>\n",
       "      <th>Potability</th>\n",
       "    </tr>\n",
       "  </thead>\n",
       "  <tbody>\n",
       "    <tr>\n",
       "      <th>0</th>\n",
       "      <td>8.5</td>\n",
       "      <td>3724.0</td>\n",
       "      <td>7.73</td>\n",
       "      <td>368.99</td>\n",
       "      <td>5378.0</td>\n",
       "      <td>3.63</td>\n",
       "      <td>13.10</td>\n",
       "      <td>0</td>\n",
       "    </tr>\n",
       "    <tr>\n",
       "      <th>1</th>\n",
       "      <td>8.2</td>\n",
       "      <td>3665.0</td>\n",
       "      <td>6.61</td>\n",
       "      <td>368.99</td>\n",
       "      <td>5321.0</td>\n",
       "      <td>3.63</td>\n",
       "      <td>13.10</td>\n",
       "      <td>0</td>\n",
       "    </tr>\n",
       "    <tr>\n",
       "      <th>2</th>\n",
       "      <td>7.5</td>\n",
       "      <td>3724.0</td>\n",
       "      <td>6.61</td>\n",
       "      <td>368.99</td>\n",
       "      <td>516.0</td>\n",
       "      <td>3.63</td>\n",
       "      <td>13.10</td>\n",
       "      <td>0</td>\n",
       "    </tr>\n",
       "    <tr>\n",
       "      <th>3</th>\n",
       "      <td>5.5</td>\n",
       "      <td>638.0</td>\n",
       "      <td>9.24</td>\n",
       "      <td>368.99</td>\n",
       "      <td>348.0</td>\n",
       "      <td>3.63</td>\n",
       "      <td>13.10</td>\n",
       "      <td>1</td>\n",
       "    </tr>\n",
       "    <tr>\n",
       "      <th>4</th>\n",
       "      <td>6.8</td>\n",
       "      <td>635.0</td>\n",
       "      <td>9.24</td>\n",
       "      <td>368.99</td>\n",
       "      <td>372.0</td>\n",
       "      <td>3.63</td>\n",
       "      <td>11.52</td>\n",
       "      <td>0</td>\n",
       "    </tr>\n",
       "    <tr>\n",
       "      <th>5</th>\n",
       "      <td>5.7</td>\n",
       "      <td>361.0</td>\n",
       "      <td>7.73</td>\n",
       "      <td>312.21</td>\n",
       "      <td>360.0</td>\n",
       "      <td>4.11</td>\n",
       "      <td>11.83</td>\n",
       "      <td>1</td>\n",
       "    </tr>\n",
       "    <tr>\n",
       "      <th>6</th>\n",
       "      <td>5.7</td>\n",
       "      <td>243.0</td>\n",
       "      <td>7.73</td>\n",
       "      <td>312.21</td>\n",
       "      <td>168.0</td>\n",
       "      <td>2.95</td>\n",
       "      <td>11.83</td>\n",
       "      <td>1</td>\n",
       "    </tr>\n",
       "    <tr>\n",
       "      <th>7</th>\n",
       "      <td>7.8</td>\n",
       "      <td>7.0</td>\n",
       "      <td>9.53</td>\n",
       "      <td>312.21</td>\n",
       "      <td>5467.0</td>\n",
       "      <td>4.31</td>\n",
       "      <td>11.83</td>\n",
       "      <td>1</td>\n",
       "    </tr>\n",
       "    <tr>\n",
       "      <th>8</th>\n",
       "      <td>7.8</td>\n",
       "      <td>114.0</td>\n",
       "      <td>9.53</td>\n",
       "      <td>319.55</td>\n",
       "      <td>550.0</td>\n",
       "      <td>2.95</td>\n",
       "      <td>11.51</td>\n",
       "      <td>0</td>\n",
       "    </tr>\n",
       "    <tr>\n",
       "      <th>9</th>\n",
       "      <td>8.5</td>\n",
       "      <td>16.0</td>\n",
       "      <td>9.74</td>\n",
       "      <td>359.22</td>\n",
       "      <td>372.0</td>\n",
       "      <td>4.07</td>\n",
       "      <td>11.51</td>\n",
       "      <td>0</td>\n",
       "    </tr>\n",
       "    <tr>\n",
       "      <th>10</th>\n",
       "      <td>7.5</td>\n",
       "      <td>666.0</td>\n",
       "      <td>6.55</td>\n",
       "      <td>352.88</td>\n",
       "      <td>145.0</td>\n",
       "      <td>4.31</td>\n",
       "      <td>16.92</td>\n",
       "      <td>0</td>\n",
       "    </tr>\n",
       "    <tr>\n",
       "      <th>11</th>\n",
       "      <td>6.8</td>\n",
       "      <td>5000.0</td>\n",
       "      <td>6.55</td>\n",
       "      <td>352.88</td>\n",
       "      <td>28.0</td>\n",
       "      <td>3.53</td>\n",
       "      <td>16.92</td>\n",
       "      <td>1</td>\n",
       "    </tr>\n",
       "    <tr>\n",
       "      <th>12</th>\n",
       "      <td>6.8</td>\n",
       "      <td>260.0</td>\n",
       "      <td>6.55</td>\n",
       "      <td>368.99</td>\n",
       "      <td>141.0</td>\n",
       "      <td>3.63</td>\n",
       "      <td>3.63</td>\n",
       "      <td>1</td>\n",
       "    </tr>\n",
       "    <tr>\n",
       "      <th>13</th>\n",
       "      <td>5.5</td>\n",
       "      <td>102.0</td>\n",
       "      <td>7.73</td>\n",
       "      <td>368.99</td>\n",
       "      <td>5292.0</td>\n",
       "      <td>3.63</td>\n",
       "      <td>3.63</td>\n",
       "      <td>1</td>\n",
       "    </tr>\n",
       "    <tr>\n",
       "      <th>14</th>\n",
       "      <td>5.5</td>\n",
       "      <td>19.0</td>\n",
       "      <td>7.73</td>\n",
       "      <td>368.99</td>\n",
       "      <td>5208.0</td>\n",
       "      <td>3.63</td>\n",
       "      <td>3.63</td>\n",
       "      <td>1</td>\n",
       "    </tr>\n",
       "    <tr>\n",
       "      <th>15</th>\n",
       "      <td>5.5</td>\n",
       "      <td>101.0</td>\n",
       "      <td>7.73</td>\n",
       "      <td>368.99</td>\n",
       "      <td>5557.0</td>\n",
       "      <td>3.21</td>\n",
       "      <td>3.63</td>\n",
       "      <td>1</td>\n",
       "    </tr>\n",
       "    <tr>\n",
       "      <th>16</th>\n",
       "      <td>5.7</td>\n",
       "      <td>104.0</td>\n",
       "      <td>7.73</td>\n",
       "      <td>300.27</td>\n",
       "      <td>2000.0</td>\n",
       "      <td>3.21</td>\n",
       "      <td>4.31</td>\n",
       "      <td>0</td>\n",
       "    </tr>\n",
       "    <tr>\n",
       "      <th>17</th>\n",
       "      <td>5.5</td>\n",
       "      <td>5000.0</td>\n",
       "      <td>7.73</td>\n",
       "      <td>312.21</td>\n",
       "      <td>2007.0</td>\n",
       "      <td>3.21</td>\n",
       "      <td>3.63</td>\n",
       "      <td>0</td>\n",
       "    </tr>\n",
       "    <tr>\n",
       "      <th>18</th>\n",
       "      <td>6.8</td>\n",
       "      <td>1097.0</td>\n",
       "      <td>7.73</td>\n",
       "      <td>319.55</td>\n",
       "      <td>4791.0</td>\n",
       "      <td>2.95</td>\n",
       "      <td>4.31</td>\n",
       "      <td>1</td>\n",
       "    </tr>\n",
       "    <tr>\n",
       "      <th>19</th>\n",
       "      <td>8.5</td>\n",
       "      <td>1355.0</td>\n",
       "      <td>7.73</td>\n",
       "      <td>319.55</td>\n",
       "      <td>329.0</td>\n",
       "      <td>4.07</td>\n",
       "      <td>3.63</td>\n",
       "      <td>0</td>\n",
       "    </tr>\n",
       "  </tbody>\n",
       "</table>\n",
       "</div>"
      ],
      "text/plain": [
       "     pH     TDS  Chlorine  Chemical_Oxygen  Conductivity  Organic_Carbon  \\\n",
       "0   8.5  3724.0      7.73           368.99        5378.0            3.63   \n",
       "1   8.2  3665.0      6.61           368.99        5321.0            3.63   \n",
       "2   7.5  3724.0      6.61           368.99         516.0            3.63   \n",
       "3   5.5   638.0      9.24           368.99         348.0            3.63   \n",
       "4   6.8   635.0      9.24           368.99         372.0            3.63   \n",
       "5   5.7   361.0      7.73           312.21         360.0            4.11   \n",
       "6   5.7   243.0      7.73           312.21         168.0            2.95   \n",
       "7   7.8     7.0      9.53           312.21        5467.0            4.31   \n",
       "8   7.8   114.0      9.53           319.55         550.0            2.95   \n",
       "9   8.5    16.0      9.74           359.22         372.0            4.07   \n",
       "10  7.5   666.0      6.55           352.88         145.0            4.31   \n",
       "11  6.8  5000.0      6.55           352.88          28.0            3.53   \n",
       "12  6.8   260.0      6.55           368.99         141.0            3.63   \n",
       "13  5.5   102.0      7.73           368.99        5292.0            3.63   \n",
       "14  5.5    19.0      7.73           368.99        5208.0            3.63   \n",
       "15  5.5   101.0      7.73           368.99        5557.0            3.21   \n",
       "16  5.7   104.0      7.73           300.27        2000.0            3.21   \n",
       "17  5.5  5000.0      7.73           312.21        2007.0            3.21   \n",
       "18  6.8  1097.0      7.73           319.55        4791.0            2.95   \n",
       "19  8.5  1355.0      7.73           319.55         329.0            4.07   \n",
       "\n",
       "    Turbidity  Potability  \n",
       "0       13.10           0  \n",
       "1       13.10           0  \n",
       "2       13.10           0  \n",
       "3       13.10           1  \n",
       "4       11.52           0  \n",
       "5       11.83           1  \n",
       "6       11.83           1  \n",
       "7       11.83           1  \n",
       "8       11.51           0  \n",
       "9       11.51           0  \n",
       "10      16.92           0  \n",
       "11      16.92           1  \n",
       "12       3.63           1  \n",
       "13       3.63           1  \n",
       "14       3.63           1  \n",
       "15       3.63           1  \n",
       "16       4.31           0  \n",
       "17       3.63           0  \n",
       "18       4.31           1  \n",
       "19       3.63           0  "
      ]
     },
     "execution_count": 41,
     "metadata": {},
     "output_type": "execute_result"
    }
   ],
   "source": [
    "newdata1['Potability'] = new_output\n",
    "newdata1.head(20)"
   ]
  }
 ],
 "metadata": {
  "hide_input": false,
  "kernelspec": {
   "display_name": "Python 3",
   "language": "python",
   "name": "python3"
  },
  "language_info": {
   "codemirror_mode": {
    "name": "ipython",
    "version": 3
   },
   "file_extension": ".py",
   "mimetype": "text/x-python",
   "name": "python",
   "nbconvert_exporter": "python",
   "pygments_lexer": "ipython3",
   "version": "3.8.8"
  }
 },
 "nbformat": 4,
 "nbformat_minor": 4
}
